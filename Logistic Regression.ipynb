{
 "cells": [
  {
   "cell_type": "markdown",
   "id": "546ae77a-4259-4c9a-8f58-c6435bf0fea8",
   "metadata": {},
   "source": [
    "# MATH 360 Introduction to Mathematical Modelling\n",
    "\n",
    "### Modelling Assignment 6: Logistic Regression"
   ]
  },
  {
   "cell_type": "markdown",
   "id": "f95c4ef3",
   "metadata": {},
   "source": [
    "Discussed with Anthony Mirarchi, Nara Sheen, Umay Gokturk, Tiffany Wu"
   ]
  },
  {
   "cell_type": "markdown",
   "id": "224e249b-d1a5-405f-a595-f04737d78f39",
   "metadata": {},
   "source": [
    "### Part 1: Construct the Model - Logistic Regression\n",
    "\n",
    "The `card_transdata_1.csv` dataset contains features that can be used to determine if a credit card transaction is genuine or fraud.  In particular, the dataset includes the following columns:\n",
    "- `distance_from_home`: the distance from home where the transaction happened.\n",
    "- `distance_from_last_transaction`: the distance from last transaction happened.\n",
    "- `ratio_to_median_purchase_price`: ratio of purchased price transaction to median purchase price.\n",
    "- `repeat_retailer`: is the transaction happened from same retailer.\n",
    "- `used_chip`: is the transaction through chip (credit card).\n",
    "- `used_pin_number`: is the transaction happened by using PIN number.\n",
    "- `online_order`: is the transaction an online order.\n",
    "- `fraud`: is the transaction fraudulent.\n",
    "\n",
    "Construct a mathematical model using logistic regression for following **Tasks** below.\n",
    "\n",
    "\n",
    "Present your work in a Jupyter notebook that includes:\n",
    "- Problem statement\n",
    "- Variable and parameter definitions \n",
    "- Assumptions and constraints\n",
    "- Logistic regression\n",
    "- Analysis\n",
    "\n",
    "Students work individually and submit their work in class."
   ]
  },
  {
   "cell_type": "code",
   "execution_count": 1,
   "id": "d5f4e0c0-2402-46c1-a0ea-3848749a79e4",
   "metadata": {},
   "outputs": [
    {
     "name": "stdout",
     "output_type": "stream",
     "text": [
      "packages imported\n"
     ]
    }
   ],
   "source": [
    "import numpy as np\n",
    "import matplotlib.pyplot as plt\n",
    "import pandas as pd\n",
    "from sklearn.linear_model import LogisticRegression\n",
    "from sklearn.model_selection import train_test_split\n",
    "from sklearn.metrics import confusion_matrix\n",
    "from sklearn.preprocessing import StandardScaler\n",
    "\n",
    "print(\"packages imported\")"
   ]
  },
  {
   "cell_type": "code",
   "execution_count": 2,
   "id": "cf8f6cc8-7dc5-43c2-bd3f-7043fa86a3bc",
   "metadata": {},
   "outputs": [
    {
     "name": "stdout",
     "output_type": "stream",
     "text": [
      "<class 'pandas.core.frame.DataFrame'>\n",
      "RangeIndex: 10000 entries, 0 to 9999\n",
      "Data columns (total 8 columns):\n",
      " #   Column                          Non-Null Count  Dtype  \n",
      "---  ------                          --------------  -----  \n",
      " 0   distance_from_home              10000 non-null  float64\n",
      " 1   distance_from_last_transaction  10000 non-null  float64\n",
      " 2   ratio_to_median_purchase_price  10000 non-null  float64\n",
      " 3   repeat_retailer                 10000 non-null  int64  \n",
      " 4   used_chip                       10000 non-null  int64  \n",
      " 5   used_pin_number                 10000 non-null  int64  \n",
      " 6   online_order                    10000 non-null  int64  \n",
      " 7   fraud                           10000 non-null  int64  \n",
      "dtypes: float64(3), int64(5)\n",
      "memory usage: 625.1 KB\n"
     ]
    }
   ],
   "source": [
    "#fraud  data \n",
    "fraud_data = pd.read_csv('card_transdata_1.csv')\n",
    "\n",
    "fraud = pd.DataFrame(fraud_data)\n",
    "fraud.info()"
   ]
  },
  {
   "cell_type": "code",
   "execution_count": 3,
   "id": "5a890b7e-405a-452d-bb1e-d85a27b4b690",
   "metadata": {},
   "outputs": [
    {
     "data": {
      "text/html": [
       "<div>\n",
       "<style scoped>\n",
       "    .dataframe tbody tr th:only-of-type {\n",
       "        vertical-align: middle;\n",
       "    }\n",
       "\n",
       "    .dataframe tbody tr th {\n",
       "        vertical-align: top;\n",
       "    }\n",
       "\n",
       "    .dataframe thead th {\n",
       "        text-align: right;\n",
       "    }\n",
       "</style>\n",
       "<table border=\"1\" class=\"dataframe\">\n",
       "  <thead>\n",
       "    <tr style=\"text-align: right;\">\n",
       "      <th></th>\n",
       "      <th>distance_from_home</th>\n",
       "      <th>distance_from_last_transaction</th>\n",
       "      <th>ratio_to_median_purchase_price</th>\n",
       "      <th>repeat_retailer</th>\n",
       "      <th>used_chip</th>\n",
       "      <th>used_pin_number</th>\n",
       "      <th>online_order</th>\n",
       "      <th>fraud</th>\n",
       "    </tr>\n",
       "  </thead>\n",
       "  <tbody>\n",
       "    <tr>\n",
       "      <th>0</th>\n",
       "      <td>57.877857</td>\n",
       "      <td>0.311140</td>\n",
       "      <td>1.945940</td>\n",
       "      <td>1</td>\n",
       "      <td>1</td>\n",
       "      <td>0</td>\n",
       "      <td>0</td>\n",
       "      <td>0</td>\n",
       "    </tr>\n",
       "    <tr>\n",
       "      <th>1</th>\n",
       "      <td>10.829943</td>\n",
       "      <td>0.175592</td>\n",
       "      <td>1.294219</td>\n",
       "      <td>1</td>\n",
       "      <td>0</td>\n",
       "      <td>0</td>\n",
       "      <td>0</td>\n",
       "      <td>0</td>\n",
       "    </tr>\n",
       "    <tr>\n",
       "      <th>2</th>\n",
       "      <td>5.091079</td>\n",
       "      <td>0.805153</td>\n",
       "      <td>0.427715</td>\n",
       "      <td>1</td>\n",
       "      <td>0</td>\n",
       "      <td>0</td>\n",
       "      <td>1</td>\n",
       "      <td>0</td>\n",
       "    </tr>\n",
       "    <tr>\n",
       "      <th>3</th>\n",
       "      <td>2.247564</td>\n",
       "      <td>5.600044</td>\n",
       "      <td>0.362663</td>\n",
       "      <td>1</td>\n",
       "      <td>1</td>\n",
       "      <td>0</td>\n",
       "      <td>1</td>\n",
       "      <td>0</td>\n",
       "    </tr>\n",
       "    <tr>\n",
       "      <th>4</th>\n",
       "      <td>44.190936</td>\n",
       "      <td>0.566486</td>\n",
       "      <td>2.222767</td>\n",
       "      <td>1</td>\n",
       "      <td>1</td>\n",
       "      <td>0</td>\n",
       "      <td>1</td>\n",
       "      <td>0</td>\n",
       "    </tr>\n",
       "  </tbody>\n",
       "</table>\n",
       "</div>"
      ],
      "text/plain": [
       "   distance_from_home  distance_from_last_transaction  \\\n",
       "0           57.877857                        0.311140   \n",
       "1           10.829943                        0.175592   \n",
       "2            5.091079                        0.805153   \n",
       "3            2.247564                        5.600044   \n",
       "4           44.190936                        0.566486   \n",
       "\n",
       "   ratio_to_median_purchase_price  repeat_retailer  used_chip  \\\n",
       "0                        1.945940                1          1   \n",
       "1                        1.294219                1          0   \n",
       "2                        0.427715                1          0   \n",
       "3                        0.362663                1          1   \n",
       "4                        2.222767                1          1   \n",
       "\n",
       "   used_pin_number  online_order  fraud  \n",
       "0                0             0      0  \n",
       "1                0             0      0  \n",
       "2                0             1      0  \n",
       "3                0             1      0  \n",
       "4                0             1      0  "
      ]
     },
     "execution_count": 3,
     "metadata": {},
     "output_type": "execute_result"
    }
   ],
   "source": [
    "fraud.head()"
   ]
  },
  {
   "cell_type": "markdown",
   "id": "fe675253-794f-4af9-8371-7a3473b87e20",
   "metadata": {},
   "source": [
    "**Task:** Write a problem statement."
   ]
  },
  {
   "cell_type": "markdown",
   "id": "67c92535",
   "metadata": {},
   "source": [
    "Create a model to determine if a certain transaction is fraudaulent."
   ]
  },
  {
   "cell_type": "markdown",
   "id": "6d23d3d3-fd3d-4143-a3f1-8efa98afc49b",
   "metadata": {},
   "source": [
    "**Task:** State parameters and variables."
   ]
  },
  {
   "cell_type": "markdown",
   "id": "ee1c2889",
   "metadata": {},
   "source": [
    "| Description | Symbol | Type |\n",
    "| --- | --- | --- |\n",
    "| Fraud | $Y$ | target variable |\n",
    "| Distance from home | $X1$ | feature variable |\n",
    "| Distance from last transaction | $X2$ | feature variable |\n",
    "| Ratio to median purchase price | $X3$ | feature variable |\n",
    "| Repeat retailer | $X4$ | feature variable |\n",
    "| Used Chip | $X5$ | feature variable |\n",
    "| Used pin number | $X6$ | feature variable |\n",
    "| Online order | $X7$ | feature variable |\n",
    "| Regularization parameter | $\\alpha$ | parameter |\n",
    "| Weights | $W$ | parameter |\n",
    "| Bias | $b$ | parameter |"
   ]
  },
  {
   "cell_type": "markdown",
   "id": "10ad41d2-2530-4e77-9989-4a82d8ab9d8c",
   "metadata": {},
   "source": [
    "**Task:** State assumptions and constraints. "
   ]
  },
  {
   "cell_type": "markdown",
   "id": "9657d37c",
   "metadata": {},
   "source": [
    "- the measuring device to measure each feature and target is sufficiently accurate\n",
    "- we will assume we can split the data in to a training set and a testing set with a 70-30 split\n",
    "    - assume the model score is representative of when we deploy the model\n",
    "- each features is independent and each observation independent\n",
    "- the data is appropriate for logistic regression"
   ]
  },
  {
   "cell_type": "markdown",
   "id": "b3114814-e75e-4861-9ef2-b6ab69a1089c",
   "metadata": {},
   "source": [
    "**Task:** Define the data matrix `X` and target vector `y`."
   ]
  },
  {
   "cell_type": "code",
   "execution_count": 4,
   "id": "425a6ae7-0396-45c3-bb28-920caa040809",
   "metadata": {},
   "outputs": [],
   "source": [
    "X = fraud[[\"distance_from_home\", \"distance_from_last_transaction\", \"ratio_to_median_purchase_price\", \"repeat_retailer\", \"used_chip\", \"used_pin_number\", \"online_order\"]]\n",
    "y = fraud[\"fraud\"]"
   ]
  },
  {
   "cell_type": "markdown",
   "id": "1dd52db2-129c-4ab0-bdb9-38d9968df7aa",
   "metadata": {},
   "source": [
    "**Task:** Determine the appropriate amount of regularization to include and then construct a logistic regression model using `LogisticRegression`.  Print out the weights and the bias values determined from your logistic regression."
   ]
  },
  {
   "cell_type": "code",
   "execution_count": 6,
   "id": "cb15f780",
   "metadata": {},
   "outputs": [
    {
     "name": "stdout",
     "output_type": "stream",
     "text": [
      "Coefficient for distance_from_home: 0.015544294926603086 \n",
      " Coefficient for distance_from_last_transaction: 0.018303262042977213 \n",
      " Coefficient for ratio_to_median_purchase_price: 0.7387307753514848 \n",
      " Coefficient for repeat_retailer: -0.6389163790811185 \n",
      " Coefficient for used_chip: -1.1687920556248588 \n",
      " Coefficient for used_pin_number: -5.738843845728477 \n",
      " Coefficient for online_order: 7.237504624019285 \n",
      " Intercept: -10.58446694128626\n"
     ]
    }
   ],
   "source": [
    "model = LogisticRegression(C=1, max_iter=1000).fit(X,y)\n",
    "\n",
    "print(f\"Coefficient for distance_from_home: {model.coef_[0,0]} \\n Coefficient for distance_from_last_transaction: {model.coef_[0,1]} \\n Coefficient for ratio_to_median_purchase_price: {model.coef_[0,2]} \\n Coefficient for repeat_retailer: {model.coef_[0,3]} \\n Coefficient for used_chip: {model.coef_[0,4]} \\n Coefficient for used_pin_number: {model.coef_[0,5]} \\n Coefficient for online_order: {model.coef_[0,6]} \\n Intercept: {model.intercept_[0]}\")"
   ]
  },
  {
   "cell_type": "markdown",
   "id": "fb46a6a2",
   "metadata": {},
   "source": [
    "This gives us a logistic regression equation of:\n",
    "\n",
    "$$\\sigma(x; W, b) = \\frac{1}{1+e^{-(<W,x>+b)}}$$\n",
    "where \n",
    "$$ W =\n",
    "\\begin{pmatrix}\n",
    "0.01554 \\\\\n",
    "0.01830 \\\\\n",
    "0.7387 \\\\\n",
    "-0.6389 \\\\\n",
    "-1.1688 \\\\\n",
    "-5.7388 \\\\\n",
    "7.2375\n",
    "\\end{pmatrix},  b = -10.5845\n",
    "$$"
   ]
  },
  {
   "cell_type": "markdown",
   "id": "4641576a-0b0b-4a34-b148-a48e47fb3015",
   "metadata": {},
   "source": [
    "**Task:** Using a training set and testing split of your choosing, split the data into a training set and a testing set. Evaluate your model and explicitly state (i.e., calculate and print the result) the percentage of correctly classified fraudulent transactions. "
   ]
  },
  {
   "cell_type": "markdown",
   "id": "c7b939ca",
   "metadata": {},
   "source": [
    "As stated in assumptions, we are going to be conducting 70-30 split of the data."
   ]
  },
  {
   "cell_type": "code",
   "execution_count": 7,
   "id": "aa74eba0",
   "metadata": {},
   "outputs": [],
   "source": [
    "X_train, X_test, Y_train, Y_test = train_test_split(X, y, test_size=0.3)"
   ]
  },
  {
   "cell_type": "code",
   "execution_count": 8,
   "id": "b999c9bd-df4e-4cb0-9566-42131c87d940",
   "metadata": {},
   "outputs": [],
   "source": [
    "def costCE(W,b,X,y):\n",
    "    N,p = X.shape\n",
    "    W = np.array(W).reshape(p,1)\n",
    "    y = np.array(y).reshape(N,1)\n",
    "    S = 1/(1 + np.exp(-(X@W + b)))\n",
    "    L = -1/N*np.sum(y*np.log(S) + (1 - y)*np.log(1 - S))\n",
    "    return L"
   ]
  },
  {
   "cell_type": "code",
   "execution_count": 56,
   "id": "044050de",
   "metadata": {
    "scrolled": false
   },
   "outputs": [
    {
     "name": "stderr",
     "output_type": "stream",
     "text": [
      "/Users/yushinnam/anaconda3/lib/python3.11/site-packages/pandas/core/internals/blocks.py:329: RuntimeWarning: divide by zero encountered in log\n",
      "  result = func(self.values, **kwargs)\n",
      "/Users/yushinnam/anaconda3/lib/python3.11/site-packages/pandas/core/internals/blocks.py:329: RuntimeWarning: divide by zero encountered in log\n",
      "  result = func(self.values, **kwargs)\n",
      "/Users/yushinnam/anaconda3/lib/python3.11/site-packages/pandas/core/internals/blocks.py:329: RuntimeWarning: divide by zero encountered in log\n",
      "  result = func(self.values, **kwargs)\n"
     ]
    },
    {
     "data": {
      "image/png": "[encoded data removed]",
      "text/plain": [
       "<Figure size 640x480 with 2 Axes>"
      ]
     },
     "metadata": {},
     "output_type": "display_data"
    }
   ],
   "source": [
    "CEs = []\n",
    "Rs = []\n",
    "alphas = np.logspace(-2,4,20)\n",
    "for alpha in alphas:\n",
    "    model = LogisticRegression(C=1/alpha, max_iter=1000).fit(X,y)\n",
    "    W = model.coef_\n",
    "    b = model.intercept_\n",
    "    CE = costCE(W,b,X,y)\n",
    "    R = np.linalg.norm(W)**2\n",
    "    CEs.append(CE)\n",
    "    Rs.append(R)\n",
    "\n",
    "plt.scatter(Rs,CEs,c=np.log10(alphas))\n",
    "plt.grid(True), plt.colorbar(label='$\\log_{10}(alpha)$')\n",
    "plt.xlabel('$|| W ||^2$')\n",
    "plt.ylabel('Cross Entropy')\n",
    "plt.show()"
   ]
  },
  {
   "cell_type": "markdown",
   "id": "e74aa69d",
   "metadata": {},
   "source": [
    "Our goal is to minimize the Cross Entropy as much as possible and at the same time, we don't want $||W||^2$ to be very large. In this case, it is appropriate to choose $\\alpha = 10^{-1}$. "
   ]
  },
  {
   "cell_type": "code",
   "execution_count": 60,
   "id": "c2719717",
   "metadata": {},
   "outputs": [],
   "source": [
    "a = 1/10\n",
    "model = LogisticRegression(C=1/a, max_iter = 1000).fit(X_train, Y_train)"
   ]
  },
  {
   "cell_type": "code",
   "execution_count": 61,
   "id": "70e85247",
   "metadata": {},
   "outputs": [
    {
     "data": {
      "text/plain": [
       "0.959"
      ]
     },
     "execution_count": 61,
     "metadata": {},
     "output_type": "execute_result"
    }
   ],
   "source": [
    "model.score(X_test, Y_test)"
   ]
  },
  {
   "cell_type": "code",
   "execution_count": 62,
   "id": "81ad61f7",
   "metadata": {},
   "outputs": [
    {
     "data": {
      "text/plain": [
       "0.9159"
      ]
     },
     "execution_count": 62,
     "metadata": {},
     "output_type": "execute_result"
    }
   ],
   "source": [
    "len(y[y == 0])/len(y)"
   ]
  },
  {
   "cell_type": "code",
   "execution_count": 65,
   "id": "10bb2ad6",
   "metadata": {},
   "outputs": [],
   "source": [
    "C = confusion_matrix(Y_test,model.predict(X_test))\n",
    "y_pred = model.predict(X_test)"
   ]
  },
  {
   "cell_type": "code",
   "execution_count": 69,
   "id": "d8c307fd",
   "metadata": {},
   "outputs": [
    {
     "name": "stdout",
     "output_type": "stream",
     "text": [
      "number of false negatives:  103 ,  percent false negatives:  42.38683127572017\n",
      "number of false positives:  20 ,  percent false positives:  0.7254261878853826\n",
      "[[2737   20]\n",
      " [ 103  140]]\n"
     ]
    }
   ],
   "source": [
    "false_neg = np.sum(Y_test[Y_test == 1]- y_pred[Y_test == 1])\n",
    "print(\"number of false negatives: \", false_neg, \",  percent false negatives: \", (false_neg/len(Y_test[Y_test == 1]))*100)\n",
    "false_pos = np.sum( y_pred[Y_test == 0]- Y_test[Y_test == 0])\n",
    "print(\"number of false positives: \", false_pos, \",  percent false positives: \", (false_pos/len(Y_test[Y_test == 0]))*100)\n",
    "print(C)"
   ]
  },
  {
   "cell_type": "markdown",
   "id": "b5b8d90f-b4c3-4a07-b9e7-c482fad92bd4",
   "metadata": {},
   "source": [
    "**Task:** Scale the matrix `X` and perform a new logistic regression.  Do you achieve the same level of accuracy?  Is this expected?"
   ]
  },
  {
   "cell_type": "markdown",
   "id": "ddb5a4ad",
   "metadata": {},
   "source": [
    "Again, we are performing a 70-30 split after the scale."
   ]
  },
  {
   "cell_type": "code",
   "execution_count": 11,
   "id": "79565c41-ede6-4df2-a3e6-5dadc22f76f0",
   "metadata": {},
   "outputs": [],
   "source": [
    "Xs = StandardScaler().fit_transform(X)\n",
    "\n",
    "Xs_train, Xs_test, Ys_train, Ys_test = train_test_split(Xs, y, test_size = 0.3)"
   ]
  },
  {
   "cell_type": "code",
   "execution_count": 39,
   "id": "4b656bd4",
   "metadata": {
    "scrolled": false
   },
   "outputs": [
    {
     "data": {
      "image/png": "[encoded data removed]",
      "text/plain": [
       "<Figure size 640x480 with 2 Axes>"
      ]
     },
     "metadata": {},
     "output_type": "display_data"
    }
   ],
   "source": [
    "CEs1 = []\n",
    "Rs1 = []\n",
    "alphas = np.logspace(-2,4,25)\n",
    "for alpha in alphas:\n",
    "    model = LogisticRegression(C=1/alpha,max_iter=1000).fit(Xs,y)\n",
    "    W = model.coef_\n",
    "    b = model.intercept_\n",
    "    CE = costCE(W,b,Xs,y)\n",
    "    R = np.linalg.norm(W)**2\n",
    "    CEs1.append(CE)\n",
    "    Rs1.append(R)\n",
    "\n",
    "plt.scatter(Rs1,CEs1,c=np.log10(alphas))\n",
    "plt.grid(True)\n",
    "plt.colorbar(label='$\\log_{10}(alpha)$')\n",
    "plt.xlabel('$|| W ||^2$')\n",
    "plt.ylabel('Cross Entropy')\n",
    "plt.show()"
   ]
  },
  {
   "cell_type": "markdown",
   "id": "550953cb",
   "metadata": {},
   "source": [
    "In the plot above, we again see that choosing $\\alpha = 10^{-1}$ is a great option because it gives the best minimized Cross Entropy and $ ||W|| ^2$ at the same time."
   ]
  },
  {
   "cell_type": "code",
   "execution_count": 71,
   "id": "912235de",
   "metadata": {},
   "outputs": [],
   "source": [
    "alpha = 1/10\n",
    "log_reg = LogisticRegression(C=1/alpha).fit(Xs_train, Ys_train)"
   ]
  },
  {
   "cell_type": "code",
   "execution_count": 72,
   "id": "a4b4cf50",
   "metadata": {},
   "outputs": [
    {
     "name": "stdout",
     "output_type": "stream",
     "text": [
      "Coefficient for distance_from_home: 1.0094001232997096 \n",
      " Coefficient for distance_from_last_transaction: 0.3137646789976279 \n",
      " Coefficient for ratio_to_median_purchase_price: 2.3040333071147514 \n",
      " Coefficient for repeat_retailer: -0.22551323025306752 \n",
      " Coefficient for used_chip: -0.6174754462453889 \n",
      " Coefficient for used_pin_number: -15.251978399250296 \n",
      " Coefficient for online_order: 4.451250835116457 \n",
      " Intercept: -11.071622874539553\n"
     ]
    }
   ],
   "source": [
    "print(f\"Coefficient for distance_from_home: {log_reg.coef_[0,0]} \\n Coefficient for distance_from_last_transaction: {log_reg.coef_[0,1]} \\n Coefficient for ratio_to_median_purchase_price: {log_reg.coef_[0,2]} \\n Coefficient for repeat_retailer: {log_reg.coef_[0,3]} \\n Coefficient for used_chip: {log_reg.coef_[0,4]} \\n Coefficient for used_pin_number: {log_reg.coef_[0,5]} \\n Coefficient for online_order: {log_reg.coef_[0,6]} \\n Intercept: {log_reg.intercept_[0]}\")"
   ]
  },
  {
   "cell_type": "markdown",
   "id": "1d566e48",
   "metadata": {},
   "source": [
    "Since both scaled and unscaled data give us $\\alpha = 10^{-1}$ as our regularization parameter, we can choose either of them. However, scaled data shows more consistency and steady in the Cross Entroopy vs. $||W||^2$ plot, we will choose scaled data. "
   ]
  },
  {
   "cell_type": "code",
   "execution_count": 73,
   "id": "28b37882",
   "metadata": {},
   "outputs": [
    {
     "data": {
      "text/plain": [
       "0.966"
      ]
     },
     "execution_count": 73,
     "metadata": {},
     "output_type": "execute_result"
    }
   ],
   "source": [
    "log_reg.score(Xs_test, Ys_test)"
   ]
  },
  {
   "cell_type": "code",
   "execution_count": 74,
   "id": "55635220",
   "metadata": {},
   "outputs": [
    {
     "data": {
      "text/plain": [
       "0.9173333333333333"
      ]
     },
     "execution_count": 74,
     "metadata": {},
     "output_type": "execute_result"
    }
   ],
   "source": [
    "len(Ys_test[Ys_test == 0])/len(Ys_test)"
   ]
  },
  {
   "cell_type": "markdown",
   "id": "1701197c",
   "metadata": {},
   "source": [
    "We have a accuracy score of approximately 97%. Furthermore, we checked if our model is doing better than just picking the most common outcome and we can see that our model is doing a bit better than just picking the most common outcome. "
   ]
  },
  {
   "cell_type": "code",
   "execution_count": 79,
   "id": "f0007a85",
   "metadata": {},
   "outputs": [],
   "source": [
    "C = confusion_matrix(Ys_test,log_reg.predict(Xs_test))\n",
    "\n",
    "y_pred = log_reg.predict(Xs_test)"
   ]
  },
  {
   "cell_type": "code",
   "execution_count": 80,
   "id": "083292fd",
   "metadata": {},
   "outputs": [
    {
     "name": "stdout",
     "output_type": "stream",
     "text": [
      "number of false negatives:  91 ,  percent false negatives:  36.693548387096776\n",
      "number of false positives:  11 ,  percent false positives:  0.39970930232558144\n",
      "[[2741   11]\n",
      " [  91  157]]\n"
     ]
    }
   ],
   "source": [
    "false_neg = np.sum(Ys_test[Ys_test == 1]- y_pred[Ys_test == 1])\n",
    "print(\"number of false negatives: \", false_neg, \",  percent false negatives: \", (false_neg/len(Ys_test[Ys_test == 1]))*100)\n",
    "false_pos = np.sum( y_pred[Ys_test == 0]- Ys_test[Ys_test == 0])\n",
    "print(\"number of false positives: \", false_pos, \",  percent false positives: \", (false_pos/len(Ys_test[Ys_test == 0]))*100)\n",
    "print(C)"
   ]
  },
  {
   "cell_type": "markdown",
   "id": "929a5427",
   "metadata": {},
   "source": [
    "**Task:** Pick a model: the model without scaled data or the model with scaled data (be sure to justify your choice!). \n",
    "\n",
    "Using your chosen model, print out the $W$ and $b$ values.  From your values, determine the $2$ features which have the largest $W$ (in absolute magnitude).  Refit the model with these features and determine the accuracy.  \n",
    "\n",
    "Compare this model with the previous models.  Is there improvement?  In particular, produce the confusion matrices and discuss the false positives/negatives in the context of the modelling task."
   ]
  },
  {
   "cell_type": "code",
   "execution_count": 82,
   "id": "9dc451ca",
   "metadata": {},
   "outputs": [
    {
     "name": "stdout",
     "output_type": "stream",
     "text": [
      "[[ 1.00940012  0.31376468  2.30403331  0.22551323  0.61747545 15.2519784\n",
      "   4.45125084]]\n"
     ]
    }
   ],
   "source": [
    "W = abs(log_reg.coef_)\n",
    "print(W)"
   ]
  },
  {
   "cell_type": "markdown",
   "id": "55e87cc7",
   "metadata": {},
   "source": [
    "We see that the two largest absolute value of coefficients are used_pin and online_order. We now fit a logistic regression using these two variables. "
   ]
  },
  {
   "cell_type": "code",
   "execution_count": 86,
   "id": "5c4b62d5",
   "metadata": {},
   "outputs": [],
   "source": [
    "X_refit = fraud[[\"used_pin_number\", \"online_order\"]]\n",
    "X_train, X_test, Y_train, Y_test = train_test_split(X_refit, y, test_size=0.3)"
   ]
  },
  {
   "cell_type": "code",
   "execution_count": 89,
   "id": "b315e933",
   "metadata": {
    "scrolled": false
   },
   "outputs": [
    {
     "data": {
      "image/png": "[encoded data removed]",
      "text/plain": [
       "<Figure size 640x480 with 2 Axes>"
      ]
     },
     "metadata": {},
     "output_type": "display_data"
    }
   ],
   "source": [
    "CEs1 = []\n",
    "Rs1 = []\n",
    "alphas = np.logspace(-2,4,25)\n",
    "for alpha in alphas:\n",
    "    model = LogisticRegression(C=1/alpha,max_iter=1000).fit(X_refit,y)\n",
    "    W = model.coef_\n",
    "    b = model.intercept_\n",
    "    CE = costCE(W,b,X_refit,y)\n",
    "    R = np.linalg.norm(W)**2\n",
    "    CEs1.append(CE)\n",
    "    Rs1.append(R)\n",
    "\n",
    "plt.scatter(Rs1,CEs1,c=np.log10(alphas))\n",
    "plt.grid(True)\n",
    "plt.colorbar(label='$\\log_{10}(alpha)$')\n",
    "plt.xlabel('$|| W ||^2$')\n",
    "plt.ylabel('Cross Entropy')\n",
    "plt.show()"
   ]
  },
  {
   "cell_type": "markdown",
   "id": "b3014d26",
   "metadata": {},
   "source": [
    "We now want to choose $\\alpha$ such that our Cross Entropy is minimized and $||W||^2$ is not too big at the same time. We can choose $\\alpha = 0$. This means we have $C = 1/\\alpha = 1/\\log_{10}(0) = 1$"
   ]
  },
  {
   "cell_type": "code",
   "execution_count": 91,
   "id": "72a920a5",
   "metadata": {},
   "outputs": [
    {
     "name": "stdout",
     "output_type": "stream",
     "text": [
      "W: [[-2.7589273   2.85074578]] \n",
      "b: [-4.67053435]\n"
     ]
    }
   ],
   "source": [
    "model_refit = LogisticRegression(C=1, max_iter=1000).fit(X_train, Y_train)\n",
    "\n",
    "print(f\"W: {model_refit.coef_} \\nb: {model_refit.intercept_}\" )"
   ]
  },
  {
   "cell_type": "code",
   "execution_count": 92,
   "id": "8e674bd3",
   "metadata": {},
   "outputs": [
    {
     "name": "stdout",
     "output_type": "stream",
     "text": [
      "Model Score: 0.916\n"
     ]
    }
   ],
   "source": [
    "pred = model_refit.score(X_test, Y_test)\n",
    "print(f\"Model Score: {pred}\")"
   ]
  },
  {
   "cell_type": "code",
   "execution_count": 94,
   "id": "f6407ffd",
   "metadata": {},
   "outputs": [
    {
     "data": {
      "text/plain": [
       "array([[2748,    0],\n",
       "       [ 252,    0]])"
      ]
     },
     "execution_count": 94,
     "metadata": {},
     "output_type": "execute_result"
    }
   ],
   "source": [
    "C = confusion_matrix(Y_test, model_refit.predict(X_test))\n",
    "C"
   ]
  },
  {
   "cell_type": "markdown",
   "id": "cc2af039",
   "metadata": {},
   "source": [
    "We notice that the model score has decreased from 0.966 to 0.916."
   ]
  },
  {
   "cell_type": "markdown",
   "id": "b46180f2-402a-4a32-9300-2427a594c921",
   "metadata": {},
   "source": [
    "**Task:** Once you have determine the $2$ features from the previous task, visualize the model and showcase how the model behaves with varying input.  Be creative here! "
   ]
  },
  {
   "cell_type": "code",
   "execution_count": 108,
   "id": "03b47449",
   "metadata": {},
   "outputs": [
    {
     "data": {
      "image/png": "[encoded data removed]",
      "text/plain": [
       "<Figure size 640x480 with 2 Axes>"
      ]
     },
     "metadata": {},
     "output_type": "display_data"
    }
   ],
   "source": [
    "x0 = np.linspace(-4,4,20)\n",
    "x1 = np.linspace(-4,4,20)\n",
    "X0, X1 = np.meshgrid(x0, x1)\n",
    "W0 = model_refit.coef_[-1][-2]\n",
    "W1 = model_refit.coef_[-1][-1]\n",
    "b = model.intercept_\n",
    "\n",
    "Y = 1/(1+np.exp(-(W0*X0 + W1*X1 + b)))\n",
    "\n",
    "plt.contourf(X0, X1, Y, levels=np.arange(0,1.1,0.1))\n",
    "plt.colorbar()\n",
    "plt.contour(X0, X1, Y, levels=[0.5], colors='r')\n",
    "plt.grid(True)\n",
    "plt.show()"
   ]
  },
  {
   "cell_type": "code",
   "execution_count": 101,
   "id": "bf0055c6-c1db-4f88-8595-69965676499b",
   "metadata": {},
   "outputs": [
    {
     "data": {
      "image/png": "[encoded data removed]",
      "text/plain": [
       "<Figure size 1000x400 with 7 Axes>"
      ]
     },
     "metadata": {},
     "output_type": "display_data"
    }
   ],
   "source": [
    "X0 = Xs[y == 0]\n",
    "\n",
    "plt.figure(figsize=(10,4))\n",
    "for i in range(0,7):\n",
    "    plt.subplot(3,4,i+1)\n",
    "    plt.hist(X0[:,i],density=True,bins=50)\n",
    "    plt.title(fraud.columns[i])\n",
    "    plt.grid(True)\n",
    "plt.tight_layout()\n",
    "plt.show()"
   ]
  },
  {
   "cell_type": "code",
   "execution_count": 102,
   "id": "cf5ef2f2",
   "metadata": {},
   "outputs": [
    {
     "data": {
      "image/png": "[encoded data removed]",
      "text/plain": [
       "<Figure size 1000x400 with 7 Axes>"
      ]
     },
     "metadata": {},
     "output_type": "display_data"
    }
   ],
   "source": [
    "X1 = X[y == 1]\n",
    "\n",
    "plt.figure(figsize=(10,4))\n",
    "for i in range(0,7):\n",
    "    plt.subplot(3,4,i+1)\n",
    "    plt.hist(X0[:,i],density=True,bins=50)\n",
    "    plt.title(fraud.columns[i])\n",
    "    plt.grid(True)\n",
    "plt.tight_layout()\n",
    "plt.show()"
   ]
  },
  {
   "cell_type": "markdown",
   "id": "26b29deb-cf9c-4634-bfc8-5c7c6a6a45a8",
   "metadata": {},
   "source": [
    "### Part 2: Collaborate, Refine, and Simulate the Model\n",
    "\n",
    "After submitting your work in Part 1 in class, work in groups and compare your results. Collaborate, refine, and simulate your models.\n",
    "\n",
    "Present your work in a Jupyter notebook including all parts in Part $1$ along with:\n",
    "- Numerical solutions\n",
    "- Visualizations of solutions\n",
    "- Analysis and discussion of the results.\n",
    "\n",
    "In addition, include a clearly labelled section at the end of your Jupyter notebook, where you discuss the improvements you have made and/or what steps have been taken to refine the model.\n",
    "\n",
    "Students work collaboratively but submit their own final Jupyter notebook individually. Include names of all students with whom you collaborated in Part $2$."
   ]
  },
  {
   "cell_type": "markdown",
   "id": "930a30da-6534-4ac8-a720-86157fd2681d",
   "metadata": {},
   "source": [
    "#### Part 2 - Reflection \n",
    "This reflection should have two parts: \n",
    "\n",
    "1) Explain in a list of bullet points the changes you have made to your model in the version you are submitting and why you chose to make those changes. \n",
    "\n",
    "2) In a paragraph or two reflect on the following prompts:\n",
    "    - What part of the six modelling steps was the most challenging for you?\n",
    "    - What helped you to identify any mistakes/misconceptions in your original model?\n",
    "    - Do you think these techniques would be helpful for identifying mistakes/misconceptions in future assignments? Why or why not? "
   ]
  },
  {
   "cell_type": "markdown",
   "id": "e60dc4f4",
   "metadata": {},
   "source": [
    "1. \n",
    "* Due to my miscomprehension on the last two questions, I determined two variables with high coefficients, used_pin_number and online_order, and refit the logistic regression.\n",
    "* I was able to notice that the model score was lower than our previous model with a scale. This could be done after correctly fitting the model using the two variables.\n",
    "* I was able to add more visualization that I referred from the course note and practice problems. The contour represents by regions with colors in classification and the subplots describes the behaviour of each variable when $y = 0$ and $y = 1$"
   ]
  },
  {
   "cell_type": "markdown",
   "id": "7b7fbb97",
   "metadata": {},
   "source": [
    "2. \n",
    "In this assignment, analyzing and assessing was the most difficult part. Similar to the previous assignment, setting up an equation and implement a programming maneuver was easy because merely following the steps with little bit of application was sufficient. However, after getting the result, we were furhter required to examine what the numbers represent. Individuals are required to be more analytical in this section and I aspire to be and something I am learning in this course. "
   ]
  },
  {
   "cell_type": "code",
   "execution_count": null,
   "id": "302bd4d7",
   "metadata": {},
   "outputs": [],
   "source": []
  }
 ],
 "metadata": {
  "kernelspec": {
   "display_name": "Python 3 (ipykernel)",
   "language": "python",
   "name": "python3"
  },
  "language_info": {
   "codemirror_mode": {
    "name": "ipython",
    "version": 3
   },
   "file_extension": ".py",
   "mimetype": "text/x-python",
   "name": "python",
   "nbconvert_exporter": "python",
   "pygments_lexer": "ipython3",
   "version": "3.11.5"
  }
 },
 "nbformat": 4,
 "nbformat_minor": 5
}
